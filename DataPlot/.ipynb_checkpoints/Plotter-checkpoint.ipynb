{
 "cells": [
  {
   "cell_type": "code",
   "execution_count": null,
   "id": "055fd939-2160-41d3-af5a-0b3e7df243d3",
   "metadata": {},
   "outputs": [],
   "source": [
    "import pandas as pd\n",
    "import matplotlib.pyplot as plt"
   ]
  },
  {
   "cell_type": "code",
   "execution_count": null,
   "id": "a430dc04-bd5d-4586-b2a0-a8b0236f653e",
   "metadata": {},
   "outputs": [],
   "source": [
    "# Caminho do arquivo CSV gerado pelo Pico\n",
    "arquivo = \"../mpu_axis.csv\"  # Substitua com o nome correto\n",
    "\n",
    "# Nomes das colunas\n",
    "colunas = ['Amostra', 'Tempo(ms)', 'AccelX', 'AccelY', 'AccelZ', 'GyroX', 'GyroY', 'GyroZ']\n",
    "\n",
    "# Lê o arquivo CSV e atribui os nomes das colunas\n",
    "df = pd.read_csv(arquivo, names=colunas)\n",
    "\n",
    "# Converte as colunas relevantes para tipo numérico (ignora erros de conversão)\n",
    "for col in colunas:\n",
    "    df[col] = pd.to_numeric(df[col], errors='coerce')"
   ]
  },
  {
   "cell_type": "code",
   "execution_count": null,
   "id": "f785eafe-8e3a-4e05-b957-a961752d0dcd",
   "metadata": {},
   "outputs": [],
   "source": [
    "# --- Gráfico único com todos os dados ---\n",
    "df.set_index(\"Tempo(ms)\").plot()\n",
    "plt.xlabel(\"Tempo (ms)\")\n",
    "plt.ylabel(\"Valores\")\n",
    "plt.grid(True)\n",
    "plt.savefig(\"Gráfico.png\", dpi=300, )\n",
    "plt.show()"
   ]
  },
  {
   "cell_type": "code",
   "execution_count": null,
   "id": "3f3088d8-9d9f-4cd7-8993-0af596f45b6a",
   "metadata": {},
   "outputs": [],
   "source": [
    "# ------ Gráficos separados por eixos ----------\n",
    "subdf = df[colunas[2:]]\n",
    "subdf.plot(subplots=True)\n",
    "\n",
    "plt.show()"
   ]
  },
  {
   "cell_type": "code",
   "execution_count": null,
   "id": "8a531fec-3516-43f1-8b39-064dded5a1a5",
   "metadata": {},
   "outputs": [],
   "source": [
    "# ------ Gráfico do Eixo X do Giroscópio --------\n",
    "df[\"GyroY\"].plot(figsize=[12,4], color='purple')\n",
    "plt.show()"
   ]
  }
 ],
 "metadata": {
  "kernelspec": {
   "display_name": "Python 3 (ipykernel)",
   "language": "python",
   "name": "python3"
  },
  "language_info": {
   "codemirror_mode": {
    "name": "ipython",
    "version": 3
   },
   "file_extension": ".py",
   "mimetype": "text/x-python",
   "name": "python",
   "nbconvert_exporter": "python",
   "pygments_lexer": "ipython3",
   "version": "3.12.4"
  }
 },
 "nbformat": 4,
 "nbformat_minor": 5
}
